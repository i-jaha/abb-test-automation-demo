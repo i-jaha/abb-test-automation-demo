{
  "nbformat": 4,
  "nbformat_minor": 0,
  "metadata": {
    "colab": {
      "provenance": [],
      "collapsed_sections": [
        "-FsyXDGWijWC"
      ],
      "authorship_tag": "ABX9TyOBj0lbw0wQ/6M3YUixpyIl"
    },
    "kernelspec": {
      "name": "python3",
      "display_name": "Python 3"
    },
    "language_info": {
      "name": "python"
    }
  },
  "cells": [
    {
      "cell_type": "markdown",
      "source": [
        "## Libraries"
      ],
      "metadata": {
        "id": "-FsyXDGWijWC"
      }
    },
    {
      "cell_type": "code",
      "source": [
        "pip install selenium"
      ],
      "metadata": {
        "colab": {
          "base_uri": "https://localhost:8080/"
        },
        "id": "2d8P3iaVaSvq",
        "outputId": "3619aae3-e64d-4db9-b6e6-f6898b153b1a"
      },
      "execution_count": null,
      "outputs": [
        {
          "output_type": "stream",
          "name": "stdout",
          "text": [
            "Requirement already satisfied: selenium in /usr/local/lib/python3.11/dist-packages (4.32.0)\n",
            "Requirement already satisfied: urllib3<3,>=1.26 in /usr/local/lib/python3.11/dist-packages (from urllib3[socks]<3,>=1.26->selenium) (2.4.0)\n",
            "Requirement already satisfied: trio~=0.17 in /usr/local/lib/python3.11/dist-packages (from selenium) (0.30.0)\n",
            "Requirement already satisfied: trio-websocket~=0.9 in /usr/local/lib/python3.11/dist-packages (from selenium) (0.12.2)\n",
            "Requirement already satisfied: certifi>=2021.10.8 in /usr/local/lib/python3.11/dist-packages (from selenium) (2025.4.26)\n",
            "Requirement already satisfied: typing_extensions~=4.9 in /usr/local/lib/python3.11/dist-packages (from selenium) (4.13.2)\n",
            "Requirement already satisfied: websocket-client~=1.8 in /usr/local/lib/python3.11/dist-packages (from selenium) (1.8.0)\n",
            "Requirement already satisfied: attrs>=23.2.0 in /usr/local/lib/python3.11/dist-packages (from trio~=0.17->selenium) (25.3.0)\n",
            "Requirement already satisfied: sortedcontainers in /usr/local/lib/python3.11/dist-packages (from trio~=0.17->selenium) (2.4.0)\n",
            "Requirement already satisfied: idna in /usr/local/lib/python3.11/dist-packages (from trio~=0.17->selenium) (3.10)\n",
            "Requirement already satisfied: outcome in /usr/local/lib/python3.11/dist-packages (from trio~=0.17->selenium) (1.3.0.post0)\n",
            "Requirement already satisfied: sniffio>=1.3.0 in /usr/local/lib/python3.11/dist-packages (from trio~=0.17->selenium) (1.3.1)\n",
            "Requirement already satisfied: wsproto>=0.14 in /usr/local/lib/python3.11/dist-packages (from trio-websocket~=0.9->selenium) (1.2.0)\n",
            "Requirement already satisfied: pysocks!=1.5.7,<2.0,>=1.5.6 in /usr/local/lib/python3.11/dist-packages (from urllib3[socks]<3,>=1.26->selenium) (1.7.1)\n",
            "Requirement already satisfied: h11<1,>=0.9.0 in /usr/local/lib/python3.11/dist-packages (from wsproto>=0.14->trio-websocket~=0.9->selenium) (0.16.0)\n"
          ]
        }
      ]
    },
    {
      "cell_type": "code",
      "source": [
        "pip install requests"
      ],
      "metadata": {
        "colab": {
          "base_uri": "https://localhost:8080/"
        },
        "id": "9cA2N_aQafAf",
        "outputId": "bf15adad-72ce-4f48-8335-b6f192c034a8"
      },
      "execution_count": null,
      "outputs": [
        {
          "output_type": "stream",
          "name": "stdout",
          "text": [
            "Requirement already satisfied: requests in /usr/local/lib/python3.11/dist-packages (2.32.3)\n",
            "Requirement already satisfied: charset-normalizer<4,>=2 in /usr/local/lib/python3.11/dist-packages (from requests) (3.4.1)\n",
            "Requirement already satisfied: idna<4,>=2.5 in /usr/local/lib/python3.11/dist-packages (from requests) (3.10)\n",
            "Requirement already satisfied: urllib3<3,>=1.21.1 in /usr/local/lib/python3.11/dist-packages (from requests) (2.4.0)\n",
            "Requirement already satisfied: certifi>=2017.4.17 in /usr/local/lib/python3.11/dist-packages (from requests) (2025.4.26)\n"
          ]
        }
      ]
    },
    {
      "cell_type": "markdown",
      "source": [
        "## Checking the site availability"
      ],
      "metadata": {
        "id": "uq8nqbNwiqmW"
      }
    },
    {
      "cell_type": "markdown",
      "source": [
        "\n",
        "\n",
        "**Purpose**: To verify that the site is accessible and does not return HTTP errors.\n",
        "\n",
        "**Functionality**:\n",
        "* Use Selenium to open the main page.\n",
        "* Check the response status code (200 OK).\n",
        "* Make sure that the title contains the correct text (for example, \"ABB\")."
      ],
      "metadata": {
        "id": "zajcSFHNmbrL"
      }
    },
    {
      "cell_type": "code",
      "source": [
        "# Importing the necessary libraries\n",
        "import requests\n",
        "from selenium import webdriver"
      ],
      "metadata": {
        "id": "zEq9hWrdEN6U"
      },
      "execution_count": null,
      "outputs": []
    },
    {
      "cell_type": "code",
      "source": [
        "# The address of the site to check\n",
        "url = \"https://abb-bank.az/\""
      ],
      "metadata": {
        "id": "BV9wrysLjrUT"
      },
      "execution_count": null,
      "outputs": []
    },
    {
      "cell_type": "code",
      "source": [
        "# Checking if the site is accessible via HTTP\n",
        "try:\n",
        "    # Making a GET request\n",
        "    response = requests.get(url, timeout=10)\n",
        "\n",
        "    # Checking that the server returned 200 OK\n",
        "    if response.status_code == 200:\n",
        "        print(\"The site is available (HTTP 200 OK)\")\n",
        "    else:\n",
        "        print(f\"Error: status code received {response.status_code}\")\n",
        "        exit()\n",
        "except Exception as e:\n",
        "    print(f\"Connection error: {e}\")\n",
        "    exit()"
      ],
      "metadata": {
        "colab": {
          "base_uri": "https://localhost:8080/"
        },
        "id": "zNXycy_tkFBE",
        "outputId": "b6a1bbd3-6130-44ee-91c6-be6ecf8f220f"
      },
      "execution_count": null,
      "outputs": [
        {
          "output_type": "stream",
          "name": "stdout",
          "text": [
            "The site is available (HTTP 200 OK)\n"
          ]
        }
      ]
    },
    {
      "cell_type": "code",
      "source": [
        "# Selenium Settings\n",
        "options = webdriver.ChromeOptions()\n",
        "options.add_argument(\"--headless=new\")\n",
        "options.add_argument(\"--disable-gpu\")\n",
        "options.add_argument(\"--no-sandbox\")\n",
        "options.add_argument(\"--disable-dev-shm-usage\")"
      ],
      "metadata": {
        "id": "rJOFGFKqkIXp"
      },
      "execution_count": null,
      "outputs": []
    },
    {
      "cell_type": "code",
      "source": [
        "# Checking the page content via Selenium\n",
        "try:\n",
        "    # Creating a browser with settings\n",
        "    driver = webdriver.Chrome(options=options)\n",
        "\n",
        "    # Opening a website\n",
        "    driver.get(url)\n",
        "\n",
        "    # Checking the page title\n",
        "    page_title = driver.title\n",
        "    print(f\"Page title: {page_title}\")\n",
        "\n",
        "    # Checking if \"ABB\" is in the title\n",
        "    if \"ABB\" in page_title:\n",
        "        print(\"✅ The title contains 'ABB'\")\n",
        "    else:\n",
        "        print(\"❌ The title does NOT contain 'ABB'\")\n",
        "\n",
        "finally:\n",
        "    # Closing the browser\n",
        "    try:\n",
        "        driver.quit()\n",
        "    except:\n",
        "        pass"
      ],
      "metadata": {
        "colab": {
          "base_uri": "https://localhost:8080/"
        },
        "id": "-1j-xMVSgM7r",
        "outputId": "f6dd3c77-33bd-4590-c375-56d7409c789e"
      },
      "execution_count": null,
      "outputs": [
        {
          "output_type": "stream",
          "name": "stdout",
          "text": [
            "Page title: ABB - Müasir, Faydalı, Universal\n",
            "✅ The title contains 'ABB'\n"
          ]
        }
      ]
    },
    {
      "cell_type": "markdown",
      "source": [
        "## Checking the relevance of the exchange rate"
      ],
      "metadata": {
        "id": "qb7_9bAe4rfk"
      }
    },
    {
      "cell_type": "markdown",
      "source": [
        "**Purpose**: To automate the verification of the exchange rate table from the AMB column on the page https://abb-bank.az/az/valyuta-mezenneleri .\n",
        "\n",
        "**Functionality**:\n",
        "* Extract data from a table.\n",
        "* Compare with the exchange rates of the Central Bank of Azerbaijan from the page https://www.cbar.az/currency/rates .\n",
        "*Display the response when the courses differ.\n",
        "\n",
        "\n",
        "**Use**: Selenium for table parsing, assert for validation"
      ],
      "metadata": {
        "id": "uam6IYBQ47jj"
      }
    },
    {
      "cell_type": "code",
      "source": [
        "import tempfile\n",
        "from selenium import webdriver\n",
        "from selenium.webdriver.common.by import By\n",
        "from selenium.webdriver.support.ui import WebDriverWait\n",
        "from selenium.webdriver.support import expected_conditions as EC\n",
        "import time"
      ],
      "metadata": {
        "id": "5JuwIuVY_9zx"
      },
      "execution_count": null,
      "outputs": []
    },
    {
      "cell_type": "code",
      "source": [
        "# Creating a temporary folder for the profile\n",
        "temp_profile_dir = tempfile.mkdtemp()"
      ],
      "metadata": {
        "id": "sRzfaIyIADw1"
      },
      "execution_count": null,
      "outputs": []
    },
    {
      "cell_type": "code",
      "source": [
        "# Browser Settings\n",
        "options = webdriver.ChromeOptions()\n",
        "options.add_argument(f\"--user-data-dir={temp_profile_dir}\")\n",
        "options.add_argument(\"--headless=new\")\n",
        "options.add_argument(\"--disable-gpu\")\n",
        "options.add_argument(\"--no-sandbox\")\n",
        "options.add_argument(\"--disable-dev-shm-usage\")"
      ],
      "metadata": {
        "id": "Sdw33ShLAK12"
      },
      "execution_count": null,
      "outputs": []
    },
    {
      "cell_type": "code",
      "source": [
        "# Creating a browser\n",
        "driver = webdriver.Chrome(options=options)"
      ],
      "metadata": {
        "id": "GX24zg2eANZb"
      },
      "execution_count": null,
      "outputs": []
    },
    {
      "cell_type": "code",
      "source": [
        "# === Parsing functions ===\n",
        "def get_abb_rates():\n",
        "    \"\"\"Receives ABB Bank courses\"\"\"\n",
        "    print(\"Loading the ABB Bank...\")\n",
        "    driver.get(\"https://abb-bank.az/az/valyuta-mezenneleri\")\n",
        "\n",
        "    try:\n",
        "        # Waiting for the table\n",
        "        WebDriverWait(driver, 10).until(\n",
        "            EC.presence_of_element_located((By.CSS_SELECTOR, \".table-currency\"))\n",
        "        )\n",
        "\n",
        "        table = driver.find_element(By.CSS_SELECTOR, \".table-currency\")\n",
        "        rows = table.find_elements(By.TAG_NAME, \"tr\")[2:]  # Skip the headlines\n",
        "\n",
        "        rates = {}\n",
        "        for row in rows:\n",
        "            cells = row.find_elements(By.TAG_NAME, \"td\")\n",
        "            if len(cells) < 2:\n",
        "                continue\n",
        "\n",
        "            currency = cells[0].text.strip()\n",
        "            rate_text = cells[1].text.strip().replace(\",\", \".\")\n",
        "\n",
        "            if rate_text in [\"-\", \"\"]:\n",
        "                print(f\"Currency skipped: {currency} — no data available\")\n",
        "                continue\n",
        "\n",
        "            try:\n",
        "                # Обработка валют с масштабом (100 единиц)\n",
        "                if currency.startswith(\"100 \"):\n",
        "                    base_name = currency.split(\" \")[1]\n",
        "                    rates[base_name] = float(rate_text) / 100\n",
        "                else:\n",
        "                    rates[currency] = float(rate_text)\n",
        "            except ValueError:\n",
        "                print(f\"Incorrect course: {currency} → '{rate_text}'\")\n",
        "\n",
        "        return rates\n",
        "    except Exception as e:\n",
        "        print(f\"Error when parsing ABB Bank: {e}\")\n",
        "        return {}\n",
        "\n",
        "def get_cbar_rates():\n",
        "    \"\"\"Receives the rates of the Central Bank of Azerbaijan\"\"\"\n",
        "    print(\"Loading the Central Bank of Azerbaijan...\")\n",
        "    driver.get(\"https://www.cbar.az/currency/rates\")\n",
        "\n",
        "    try:\n",
        "        # Waiting for the table to appear\n",
        "        WebDriverWait(driver, 10).until(\n",
        "            EC.presence_of_element_located((By.CSS_SELECTOR, \".table_table\"))\n",
        "        )\n",
        "\n",
        "        rows = driver.find_elements(By.CSS_SELECTOR, \".table_row\")\n",
        "        rates = {}\n",
        "\n",
        "        for row in rows:\n",
        "            try:\n",
        "                valuta = row.find_element(By.CSS_SELECTOR, \".kod\").text.strip()\n",
        "                kurs = row.find_element(By.CSS_SELECTOR, \".kurs\").text.strip().replace(\",\", \".\")\n",
        "\n",
        "                if kurs in [\"-\", \"\"]:\n",
        "                    print(f\"Currency omitted: {valuta} — no data available\")\n",
        "                    continue\n",
        "\n",
        "                # Currency processing with a scale (100 units)\n",
        "                if valuta.startswith(\"100 \"):\n",
        "                    base_name = valuta.split(\" \")[1]\n",
        "                    rates[base_name] = float(kurs) / 100\n",
        "                elif valuta.startswith(\"10000 \"):\n",
        "                    base_name = valuta.split(\" \")[1]\n",
        "                    rates[base_name] = float(kurs) / 10000\n",
        "                else:\n",
        "                    kod = row.find_element(By.CSS_SELECTOR, \".kod\").text.strip().upper()\n",
        "                    rates[kod] = float(kurs)\n",
        "            except Exception as e:\n",
        "                print(f\"Error in the line: {e}\")\n",
        "                continue\n",
        "\n",
        "        return rates\n",
        "    except Exception as e:\n",
        "        print(f\"Error when parsing the Central Bank: {e}\")\n",
        "        return {}"
      ],
      "metadata": {
        "id": "ob17nVj1AgUs"
      },
      "execution_count": null,
      "outputs": []
    },
    {
      "cell_type": "code",
      "source": [
        "# === Currency Matching Dictionary ===\n",
        "ABB_TO_CBAR = {\n",
        "    \"USD\": \"USD\",\n",
        "    \"EUR\": \"EUR\",\n",
        "    \"GBP\": \"GBP\",\n",
        "    \"RUB\": \"RUB\",       # ABB: 100 RUB = CBAR: RUB for 100\n",
        "    \"CHF\": \"CHF\",\n",
        "    \"JPY\": \"JPY\",       # CBAR indicates for 100 units\n",
        "    \"CAD\": \"CAD\",\n",
        "    \"AUD\": \"AUD\",\n",
        "    \"TRY\": \"TRY\",\n",
        "    \"AED\": \"AED\",\n",
        "    \"SEK\": \"SEK\",\n",
        "    \"NOK\": \"NOK\",\n",
        "    \"DKK\": \"DKK\",\n",
        "    \"KZT\": \"KZT\",       # CBAR indicates for 100 units\n",
        "    \"GEL\": \"GEL\",\n",
        "    \"CNY\": \"CNY\"\n",
        "}"
      ],
      "metadata": {
        "id": "MA0jkwg5BnRI"
      },
      "execution_count": null,
      "outputs": []
    },
    {
      "cell_type": "code",
      "source": [
        "# === Main code ===\n",
        "try:\n",
        "    print(\"=== Checking the exchange rate ===\")\n",
        "\n",
        "    # Getting data from ABB Bank\n",
        "    abb_rates = get_abb_rates()\n",
        "    print(\"ABB Bank exchange rates:\", abb_rates)\n",
        "\n",
        "    # Getting data from the Central Bank of Azerbaijan\n",
        "    cbar_rates = get_cbar_rates()\n",
        "    print(\"Exchange rates of the Central Bank of Azerbaijan:\", cbar_rates)\n",
        "\n",
        "    print(\"\\nComparing exchange rates:\")\n",
        "\n",
        "    # Checking for currency exchange rate matches\n",
        "    for abb_currency, abb_rate in abb_rates.items():\n",
        "        # Obtaining compliance with the Central Bank\n",
        "        cbar_key = ABB_TO_CBAR.get(abb_currency)\n",
        "\n",
        "        if not cbar_key or cbar_key not in cbar_rates:\n",
        "            print(f\"{abb_currency}: ⚠️ Not in the data of the Central Bank\")\n",
        "            continue\n",
        "\n",
        "        cbar_rate = cbar_rates[cbar_key]\n",
        "\n",
        "        # Scale correction for 100 units\n",
        "        if abb_currency in [\"RUB\", \"KZT\", \"JPY\"]:\n",
        "            diff = abs(abb_rate - (cbar_rate / 100))\n",
        "        else:\n",
        "            diff = abs(abb_rate - cbar_rate)\n",
        "\n",
        "        if diff < 0.01:\n",
        "            print(f\"{abb_currency}: ✅ OK (ABB={abb_rate:.6f}, CBAR={cbar_rate:.6f})\")\n",
        "        else:\n",
        "            print(f\"{abb_currency}: ❌ DISCREPANCY! (ABB={abb_rate:.6f}, CBAR={cbar_rate:.6f}, difference={diff:.6f})\")\n",
        "\n",
        "finally:\n",
        "    print(\"\\nClosing the browser...\")\n",
        "    driver.quit()"
      ],
      "metadata": {
        "colab": {
          "base_uri": "https://localhost:8080/"
        },
        "id": "VnIctc-r-4RV",
        "outputId": "f248e8bf-7985-4808-ad86-304d3b167d14"
      },
      "execution_count": null,
      "outputs": [
        {
          "output_type": "stream",
          "name": "stdout",
          "text": [
            "=== Checking the exchange rate ===\n",
            "Loading the ABB Bank...\n",
            "ABB Bank exchange rates: {'USD': 1.7, 'EUR': 1.9241, 'GBP': 2.2665, 'RUB': 0.021054, 'CHF': 2.0627, 'JPY': 0.0118, 'CAD': 1.2292, 'AUD': 1.0969, 'TRY': 0.044, 'AED': 0.4628, 'SEK': 0.1765, 'NOK': 0.1645, 'DKK': 0.2579, 'KZT': 0.0033, 'GEL': 0.6198, 'CNY': 0.235}\n",
            "Loading the Central Bank of Azerbaijan...\n",
            "Exchange rates of the Central Bank of Azerbaijan: {'USD': 1.7, 'EUR': 1.9241, 'AUD': 1.0969, 'BYN': 0.5543, 'BGN': 0.9839, 'AED': 0.4628, 'KRW': 0.1218, 'CZK': 0.0773, 'CNY': 0.235, 'DKK': 0.2579, 'GEL': 0.6198, 'HKD': 0.2188, 'INR': 0.0201, 'GBP': 2.2665, 'IRR': 0.0306, 'SEK': 0.1765, 'CHF': 2.0627, 'ILS': 0.4747, 'CAD': 1.2292, 'KWD': 5.5433, 'KZT': 0.3304, 'QAR': 0.4663, 'KGS': 0.0195, 'HUF': 0.4757, 'MDL': 0.0995, 'NOK': 0.1645, 'UZS': 0.0132, 'PKR': 0.604, 'PLN': 0.4505, 'RON': 0.3756, 'RUB': 2.1054, 'RSD': 0.0164, 'SGD': 1.3128, 'SAR': 0.4532, 'XDR': 2.307, 'TRY': 0.044, 'TMT': 0.4857, 'UAH': 0.041, 'JPY': 1.1823, 'NZD': 1.0145, 'XAU': 5748.295, 'XAG': 55.7915, 'XPT': 1674.925, 'XPD': 1649.0}\n",
            "\n",
            "Comparing exchange rates:\n",
            "USD: ✅ OK (ABB=1.700000, CBAR=1.700000)\n",
            "EUR: ✅ OK (ABB=1.924100, CBAR=1.924100)\n",
            "GBP: ✅ OK (ABB=2.266500, CBAR=2.266500)\n",
            "RUB: ✅ OK (ABB=0.021054, CBAR=2.105400)\n",
            "CHF: ✅ OK (ABB=2.062700, CBAR=2.062700)\n",
            "JPY: ✅ OK (ABB=0.011800, CBAR=1.182300)\n",
            "CAD: ✅ OK (ABB=1.229200, CBAR=1.229200)\n",
            "AUD: ✅ OK (ABB=1.096900, CBAR=1.096900)\n",
            "TRY: ✅ OK (ABB=0.044000, CBAR=0.044000)\n",
            "AED: ✅ OK (ABB=0.462800, CBAR=0.462800)\n",
            "SEK: ✅ OK (ABB=0.176500, CBAR=0.176500)\n",
            "NOK: ✅ OK (ABB=0.164500, CBAR=0.164500)\n",
            "DKK: ✅ OK (ABB=0.257900, CBAR=0.257900)\n",
            "KZT: ✅ OK (ABB=0.003300, CBAR=0.330400)\n",
            "GEL: ✅ OK (ABB=0.619800, CBAR=0.619800)\n",
            "CNY: ✅ OK (ABB=0.235000, CBAR=0.235000)\n",
            "\n",
            "Closing the browser...\n"
          ]
        }
      ]
    }
  ]
}